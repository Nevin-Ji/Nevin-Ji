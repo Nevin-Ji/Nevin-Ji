{
 "cells": [
  {
   "cell_type": "code",
   "execution_count": 1,
   "metadata": {},
   "outputs": [],
   "source": [
    "from osgeo import gdal\n",
    "import pandas as pd\n",
    "import os "
   ]
  },
  {
   "cell_type": "code",
   "execution_count": 2,
   "metadata": {},
   "outputs": [],
   "source": [
    "#载入stationsbuffer attribute table\n",
    "df3 = pd.read_csv('E:\\\\dissertation\\\\stationbuffer.csv') \n",
    "df3.insert(7,'sum_solar_irradiation',0.0)"
   ]
  },
  {
   "cell_type": "code",
   "execution_count": 3,
   "metadata": {},
   "outputs": [
    {
     "name": "stdout",
     "output_type": "stream",
     "text": [
      "['E:\\\\dissertation\\\\test\\\\sr280.tif', 'E:\\\\dissertation\\\\test\\\\sr281.tif']\n"
     ]
    }
   ],
   "source": [
    "#此处用for loop 读取并加载所有tiff 文件 \n",
    "gzPath = 'E:\\\\dissertation\\\\test'\n",
    "allPath = os.listdir(gzPath)\n",
    "#print(allPath)\n",
    "alltiffpath = []\n",
    "for i in allPath:\n",
    "    if 'tif' in i and 'ovr' not in i and 'xml' not in i:\n",
    "        alltiffpath.append(os.path.join(gzPath,i))\n",
    "print(alltiffpath)"
   ]
  },
  {
   "cell_type": "code",
   "execution_count": 6,
   "metadata": {},
   "outputs": [
    {
     "name": "stdout",
     "output_type": "stream",
     "text": [
      "     OID_  Field1      id   longitude   latitude  BUFF_DIST  ORIG_FID  \\\n",
      "0       0       0   37402  113.634491  23.114132      500.0         1   \n",
      "1       1       1   40578  113.291474  23.067025      500.0         2   \n",
      "2       2       2   43960  113.353917  22.960434      500.0         3   \n",
      "3       3       3   40433  113.273454  23.217161      500.0         4   \n",
      "4       4       4   40574  113.288075  23.071797      500.0         5   \n",
      "..    ...     ...     ...         ...        ...        ...       ...   \n",
      "283   283     283  121730  113.176531  23.475087      500.0       284   \n",
      "284   284     284  122584  113.164847  23.448619      500.0       285   \n",
      "285   285     285  120262  113.241741  23.390715      500.0       286   \n",
      "286   286     286  122352  113.555251  22.708226      500.0       287   \n",
      "287   287     287  113273  113.577677  23.124781      500.0       288   \n",
      "\n",
      "     sum_solar_irradiation  \n",
      "0              3364.120572  \n",
      "1             16178.547958  \n",
      "2                 0.000000  \n",
      "3                 0.000000  \n",
      "4                 0.000000  \n",
      "..                     ...  \n",
      "283               0.000000  \n",
      "284               0.000000  \n",
      "285               0.000000  \n",
      "286               0.000000  \n",
      "287               0.000000  \n",
      "\n",
      "[288 rows x 8 columns]\n"
     ]
    }
   ],
   "source": [
    "#此处用for loop 处理数据\n",
    "cnt = 0\n",
    "for i in alltiffpath:\n",
    "    #载入solar radiation 第i个 stationbuffer tiff 文件\n",
    "    ds = gdal.Open(i) \n",
    "    xyz = gdal.Translate(\"solarirradiation.xyz\", ds)\n",
    "    xyz = None\n",
    "    \n",
    "    df = pd.read_csv(\"solarirradiation.xyz\", sep = ' ', header = None)\n",
    "    df.columns = [\"x\", 'y', 'solar_irradiation']\n",
    "\n",
    "    #计算第i个 stationbuffer 的sum solar radiation value 单位为kW.h\n",
    "    df = df[df.solar_irradiation > 0]\n",
    "    #加入sum_solarirradiation value到bufferstation attribute table\n",
    "    df3.iloc[cnt,7] = df['solar_irradiation'].sum()/1000\n",
    "    cnt = cnt+1\n",
    "print(df3)"
   ]
  },
  {
   "cell_type": "code",
   "execution_count": 13,
   "metadata": {},
   "outputs": [
    {
     "ename": "ModuleNotFoundError",
     "evalue": "No module named 'rasterio'",
     "output_type": "error",
     "traceback": [
      "\u001b[1;31m---------------------------------------------------------------------------\u001b[0m",
      "\u001b[1;31mModuleNotFoundError\u001b[0m                       Traceback (most recent call last)",
      "\u001b[1;32m<ipython-input-13-d9eff1168f73>\u001b[0m in \u001b[0;36m<module>\u001b[1;34m\u001b[0m\n\u001b[0;32m      5\u001b[0m \u001b[1;31m# df0 = pd.read_csv(\"solarirradiation.xyz\", sep = ' ', header = None)\u001b[0m\u001b[1;33m\u001b[0m\u001b[1;33m\u001b[0m\u001b[1;33m\u001b[0m\u001b[0m\n\u001b[0;32m      6\u001b[0m \u001b[1;31m# df0.columns = [\"x\", 'y', 'solar_irradiation']\u001b[0m\u001b[1;33m\u001b[0m\u001b[1;33m\u001b[0m\u001b[1;33m\u001b[0m\u001b[0m\n\u001b[1;32m----> 7\u001b[1;33m \u001b[1;32mimport\u001b[0m \u001b[0mrasterio\u001b[0m\u001b[1;33m\u001b[0m\u001b[1;33m\u001b[0m\u001b[0m\n\u001b[0m\u001b[0;32m      8\u001b[0m \u001b[1;31m# 读\u001b[0m\u001b[1;33m\u001b[0m\u001b[1;33m\u001b[0m\u001b[1;33m\u001b[0m\u001b[0m\n\u001b[0;32m      9\u001b[0m \u001b[1;32mwith\u001b[0m \u001b[0mrasterio\u001b[0m\u001b[1;33m.\u001b[0m\u001b[0mopen\u001b[0m\u001b[1;33m(\u001b[0m\u001b[1;34m'E:\\\\dissertation\\\\test\\\\sr280.tif'\u001b[0m\u001b[1;33m)\u001b[0m \u001b[1;32mas\u001b[0m \u001b[0mds0\u001b[0m\u001b[1;33m:\u001b[0m\u001b[1;33m\u001b[0m\u001b[1;33m\u001b[0m\u001b[0m\n",
      "\u001b[1;31mModuleNotFoundError\u001b[0m: No module named 'rasterio'"
     ]
    }
   ],
   "source": [
    "# ds0 = gdal.Open('E:\\\\dissertation\\\\test\\\\sr280.tif') \n",
    "# xyz = gdal.Translate(\"solarirradiation.xyz\", ds0)\n",
    "# xyz = None\n",
    "\n",
    "# df0 = pd.read_csv(\"solarirradiation.xyz\", sep = ' ', header = None)\n",
    "# df0.columns = [\"x\", 'y', 'solar_irradiation']\n",
    "import rasterio\n",
    "# 读\n",
    "with rasterio.open('E:\\\\dissertation\\\\test\\\\sr280.tif') as ds0:\n",
    "    profiles = ds0.profile\n",
    "    band1 = ds0.read(1)\n",
    "print(profiles)\n",
    "print(band1)"
   ]
  },
  {
   "cell_type": "code",
   "execution_count": null,
   "metadata": {},
   "outputs": [],
   "source": []
  }
 ],
 "metadata": {
  "kernelspec": {
   "display_name": "Python 3",
   "language": "python",
   "name": "python3"
  },
  "language_info": {
   "codemirror_mode": {
    "name": "ipython",
    "version": 3
   },
   "file_extension": ".py",
   "mimetype": "text/x-python",
   "name": "python",
   "nbconvert_exporter": "python",
   "pygments_lexer": "ipython3",
   "version": "3.7.10"
  }
 },
 "nbformat": 4,
 "nbformat_minor": 4
}
