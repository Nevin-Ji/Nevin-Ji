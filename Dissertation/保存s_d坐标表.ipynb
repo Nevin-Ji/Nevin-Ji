{
 "cells": [
  {
   "cell_type": "code",
   "execution_count": 1,
   "metadata": {},
   "outputs": [],
   "source": [
    "import pandas as pd\n",
    "import numpy as np"
   ]
  },
  {
   "cell_type": "code",
   "execution_count": 20,
   "metadata": {},
   "outputs": [
    {
     "data": {
      "text/plain": [
       "'050m_July_13'"
      ]
     },
     "execution_count": 20,
     "metadata": {},
     "output_type": "execute_result"
    }
   ],
   "source": [
    "df = pd.read_excel('E:\\\\PolyU\\\\gis\\\\Dissertation\\\\Data\\\\sd_location.xlsx')\n",
    "df.columns[3]"
   ]
  },
  {
   "cell_type": "code",
   "execution_count": 22,
   "metadata": {},
   "outputs": [],
   "source": [
    "for i in range(0,20):\n",
    "#     print(df.iloc[:,3*i:3*i+3])\n",
    "    DF = df.iloc[:,3*i:3*i+3]\n",
    "    DF.to_csv('E:\\\\PolyU\\\\gis\\\\Dissertation\\\\Data\\\\sd_locations\\\\%s.csv'%(df.columns[3*i]))"
   ]
  },
  {
   "cell_type": "code",
   "execution_count": 38,
   "metadata": {},
   "outputs": [],
   "source": [
    "df1 = pd.read_csv('E:\\\\PolyU\\\\gis\\\\Dissertation\\\\Data\\\\Supply_demand_ratio050.csv', na_values=['#DIV/0!'])\n",
    "df2 = pd.read_csv('E:\\\\PolyU\\\\gis\\\\Dissertation\\\\Data\\\\Supply_demand_ratio100.csv', na_values=['#DIV/0!'])\n",
    "df3 = pd.read_csv('E:\\\\PolyU\\\\gis\\\\Dissertation\\\\Data\\\\Supply_demand_ratio150.csv', na_values=['#DIV/0!'])\n",
    "df4 = pd.read_csv('E:\\\\PolyU\\\\gis\\\\Dissertation\\\\Data\\\\Supply_demand_ratio200.csv', na_values=['#DIV/0!'])\n",
    "df5 = pd.read_excel('E:\\\\PolyU\\\\gis\\\\Dissertation\\\\Data\\\\Supply_demand_ratio250.xlsx')\n",
    "df6 = pd.read_excel('E:\\\\PolyU\\\\gis\\\\Dissertation\\\\Data\\\\Supply_demand_ratio300.xlsx')\n",
    "df7 = pd.read_excel('E:\\\\PolyU\\\\gis\\\\Dissertation\\\\Data\\\\Supply_demand_ratio350.xlsx')\n",
    "df8 = pd.read_excel('E:\\\\PolyU\\\\gis\\\\Dissertation\\\\Data\\\\Supply_demand_ratio400.xlsx')\n",
    "df9 = pd.read_csv('E:\\\\PolyU\\\\gis\\\\Dissertation\\\\Data\\\\Supply_demand_ratio450.csv', na_values=['#DIV/0!'])\n",
    "df10 = pd.read_csv('E:\\\\PolyU\\\\gis\\\\Dissertation\\\\Data\\\\Supply_demand_ratio500.csv', na_values=['#DIV/0!'])\n",
    "DF = pd.read_excel('C:\\\\Users\\\\Nevin JI\\\\Desktop\\\\sd_loc.xlsx')"
   ]
  },
  {
   "cell_type": "code",
   "execution_count": 60,
   "metadata": {},
   "outputs": [],
   "source": [
    "id_list = DF['050m_June_28']\n",
    "id_list[0]\n",
    "if id_list[0] in df1['id']:\n",
    "    print('true')\n",
    "    \n",
    "    "
   ]
  },
  {
   "cell_type": "code",
   "execution_count": null,
   "metadata": {},
   "outputs": [],
   "source": [
    "df1[df1['id'] == id_list[0]]"
   ]
  }
 ],
 "metadata": {
  "kernelspec": {
   "display_name": "Python 3 (ipykernel)",
   "language": "python",
   "name": "python3"
  },
  "language_info": {
   "codemirror_mode": {
    "name": "ipython",
    "version": 3
   },
   "file_extension": ".py",
   "mimetype": "text/x-python",
   "name": "python",
   "nbconvert_exporter": "python",
   "pygments_lexer": "ipython3",
   "version": "3.11.7"
  }
 },
 "nbformat": 4,
 "nbformat_minor": 4
}
