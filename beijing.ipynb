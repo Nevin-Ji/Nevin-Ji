{
 "cells": [
  {
   "cell_type": "code",
   "execution_count": 1,
   "metadata": {},
   "outputs": [],
   "source": [
    "import pandas as pd\n",
    "import numpy as np\n",
    "import os"
   ]
  },
  {
   "cell_type": "code",
   "execution_count": 2,
   "metadata": {},
   "outputs": [],
   "source": [
    "path2021 = 'D:\\\\cityDNA\\\\beijing_20210101-20211231'\n",
    "path2022 = 'D:\\\\cityDNA\\\\beijing_20220101-20221231'"
   ]
  },
  {
   "cell_type": "code",
   "execution_count": 3,
   "metadata": {},
   "outputs": [],
   "source": [
    "## list all target files with string EXTRA\n",
    "### 2021/2022均可用，修改参数'path202X'为上一步中的变量即可\n",
    "files = os.listdir(path202X)\n",
    "tgtfiles = []\n",
    "for file in files:\n",
    "    if file[8] == 'e':\n",
    "        tgtfiles.append(os.path.join(path202X,file))\n",
    "# tgtfiles\n"
   ]
  },
  {
   "cell_type": "code",
   "execution_count": 120,
   "metadata": {},
   "outputs": [
    {
     "data": {
      "text/plain": [
       "Index(['date', 'hour', 'type', '东城东四', '东城天坛', '西城官园', '西城万寿西宫', '朝阳奥体中心',\n",
       "       '朝阳农展馆', '海淀万柳', '海淀四季青', '丰台小屯', '丰台云岗', '石景山古城', '石景山老山', '昌平镇',\n",
       "       '昌平南邵', '定陵(对照点)', '延庆夏都', '延庆石河营', '怀柔镇', '怀柔新城', '密云镇', '密云新城', '平谷镇',\n",
       "       '平谷新城', '顺义新城', '顺义北小营', '通州永顺', '通州东关', '大兴黄村', '大兴旧宫', '亦庄开发区',\n",
       "       '京东南区域点', '门头沟双峪', '门头沟三家店', '房山良乡', '房山燕山'],\n",
       "      dtype='object')"
      ]
     },
     "execution_count": 120,
     "metadata": {},
     "output_type": "execute_result"
    }
   ],
   "source": [
    "## test module,非必要不需要用，可跳过\n",
    "# tst = pd.read_csv(tgtfiles[0])\n",
    "# tst.columns\n",
    "# tst = tst[['date','type','官园','房山']]\n",
    "\n",
    "# # 将'date'列转换为datetime类型，以便更灵活地进行分组\n",
    "# tst['date'] = pd.to_datetime(tst['date'], format='%Y%m%d')\n",
    "\n",
    "# # 计算每天每项指标的均值\n",
    "# daily_means = tst.groupby(['date', 'type']).agg({'官园': 'mean', '房山': 'mean'}).reset_index()\n",
    "# final = daily_means.drop(index=[1,3,5,7]).reset_index(drop=True)\n",
    "# final"
   ]
  },
  {
   "cell_type": "code",
   "execution_count": 4,
   "metadata": {},
   "outputs": [],
   "source": [
    "### 2021公式\n",
    "def data_mean2021(num):\n",
    "    # important!!!发现前18天数据中只有\"官园\",\"房山\"数据,后续数据记录均为\"西城官园\"，\"房山良乡\"数据\n",
    "    if num < 18:\n",
    "        daily_file = pd.read_csv(tgtfiles[num])\n",
    "        daily_file = daily_file[['date','type','官园','房山']]\n",
    "\n",
    "        # 将'date'列转换为datetime类型，以便更灵活地进行分组\n",
    "        daily_file['date'] = pd.to_datetime(daily_file['date'], format='%Y%m%d')\n",
    "\n",
    "        # 计算每天每项指标的均值\n",
    "        daily_means = daily_file.groupby(['date', 'type']).agg({'官园': 'mean', '房山': 'mean'}).reset_index()\n",
    "        daily_means_clean = daily_means.drop(index=[1,3,5,7]).reset_index(drop=True)\n",
    "    else:\n",
    "        daily_file = pd.read_csv(tgtfiles[num])\n",
    "        daily_file = daily_file[['date','type','西城官园','房山良乡']]\n",
    "\n",
    "        # 将'date'列转换为datetime类型，以便更灵活地进行分组\n",
    "        daily_file['date'] = pd.to_datetime(daily_file['date'], format='%Y%m%d')\n",
    "\n",
    "        # 计算每天每项指标的均值\n",
    "        daily_means = daily_file.groupby(['date', 'type']).agg({'西城官园': 'mean', '房山良乡': 'mean'}).reset_index()\n",
    "        daily_means_clean = daily_means.drop(index=[1,3,5,7]).reset_index(drop=True)\n",
    "        daily_means_clean = daily_means_clean.rename(columns={'西城官园': '官园','房山良乡':'房山'})\n",
    "    return daily_means_clean"
   ]
  },
  {
   "cell_type": "code",
   "execution_count": 5,
   "metadata": {},
   "outputs": [],
   "source": [
    "### 2022公式\n",
    "def data_mean2022(num):\n",
    "    daily_file = pd.read_csv(tgtfiles[num])\n",
    "    daily_file = daily_file[['date','type','西城官园','房山良乡']]\n",
    "\n",
    "    # 将'date'列转换为datetime类型，以便更灵活地进行分组\n",
    "    daily_file['date'] = pd.to_datetime(daily_file['date'], format='%Y%m%d')\n",
    "\n",
    "    # 计算每天每项指标的均值\n",
    "    daily_means = daily_file.groupby(['date', 'type']).agg({'西城官园': 'mean', '房山良乡': 'mean'}).reset_index()\n",
    "    daily_means_clean = daily_means.drop(index=[1,3,5,7]).reset_index(drop=True)\n",
    "    daily_means_clean = daily_means_clean.rename(columns={'西城官园': '官园','房山良乡':'房山'})\n",
    "    return daily_means_clean"
   ]
  },
  {
   "cell_type": "code",
   "execution_count": null,
   "metadata": {},
   "outputs": [],
   "source": [
    "# 创建一个空列表df, 用于拼接调用公式提取出来的暂存表tmp_df\n",
    "df = pd.DataFrame({'date':[],'type':[],'官园':[],'房山':[]})\n",
    "\n",
    "for i in range(len(tgtfiles)):\n",
    "    ### 此处根据不同年份调用不同function\n",
    "    tmp_df = data_mean2021(i)\n",
    "    df = pd.concat([df,tmp_df])\n",
    "# df\n"
   ]
  },
  {
   "cell_type": "code",
   "execution_count": 7,
   "metadata": {},
   "outputs": [],
   "source": [
    "## 将上一步df输出为csv文件，记得修改路径名称\n",
    "df.to_csv(os.path.join(path2022,'2022anniversary.csv'))"
   ]
  }
 ],
 "metadata": {
  "kernelspec": {
   "display_name": "Python 3",
   "language": "python",
   "name": "python3"
  },
  "language_info": {
   "codemirror_mode": {
    "name": "ipython",
    "version": 3
   },
   "file_extension": ".py",
   "mimetype": "text/x-python",
   "name": "python",
   "nbconvert_exporter": "python",
   "pygments_lexer": "ipython3",
   "version": "3.11.5"
  }
 },
 "nbformat": 4,
 "nbformat_minor": 2
}
